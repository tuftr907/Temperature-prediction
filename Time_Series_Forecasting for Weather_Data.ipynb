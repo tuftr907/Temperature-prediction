{
 "cells": [
  {
   "cell_type": "code",
   "execution_count": 12,
   "id": "3d02775c-589b-451c-a849-e619c1272abb",
   "metadata": {},
   "outputs": [],
   "source": [
    "import pandas as pd\n",
    "import numpy as np\n",
    "from datetime import datetime\n",
    "from sklearn.model_selection import train_test_split\n",
    "from sklearn.ensemble import RandomForestRegressor\n",
    "from sklearn.metrics import mean_squared_error"
   ]
  },
  {
   "cell_type": "code",
   "execution_count": 13,
   "id": "05b25cfd-319e-4b19-9009-c153e5794e1f",
   "metadata": {},
   "outputs": [],
   "source": [
    "weather_data = pd.read_csv('weather_data.csv')"
   ]
  },
  {
   "cell_type": "code",
   "execution_count": 14,
   "id": "61476d38-acc6-490c-9582-2d17a38b1496",
   "metadata": {},
   "outputs": [
    {
     "data": {
      "text/html": [
       "<div>\n",
       "<style scoped>\n",
       "    .dataframe tbody tr th:only-of-type {\n",
       "        vertical-align: middle;\n",
       "    }\n",
       "\n",
       "    .dataframe tbody tr th {\n",
       "        vertical-align: top;\n",
       "    }\n",
       "\n",
       "    .dataframe thead th {\n",
       "        text-align: right;\n",
       "    }\n",
       "</style>\n",
       "<table border=\"1\" class=\"dataframe\">\n",
       "  <thead>\n",
       "    <tr style=\"text-align: right;\">\n",
       "      <th></th>\n",
       "      <th>STATION</th>\n",
       "      <th>NAME</th>\n",
       "      <th>LATITUDE</th>\n",
       "      <th>LONGITUDE</th>\n",
       "      <th>ELEVATION</th>\n",
       "      <th>DATE</th>\n",
       "      <th>TAVG</th>\n",
       "      <th>TMAX</th>\n",
       "      <th>TMIN</th>\n",
       "    </tr>\n",
       "  </thead>\n",
       "  <tbody>\n",
       "    <tr>\n",
       "      <th>0</th>\n",
       "      <td>IN022023000</td>\n",
       "      <td>NEW DELHI PALAM, IN</td>\n",
       "      <td>28.567</td>\n",
       "      <td>77.117</td>\n",
       "      <td>233.0</td>\n",
       "      <td>2020-05-01</td>\n",
       "      <td>31.4</td>\n",
       "      <td>39.6</td>\n",
       "      <td>24.1</td>\n",
       "    </tr>\n",
       "    <tr>\n",
       "      <th>1</th>\n",
       "      <td>IN022023000</td>\n",
       "      <td>NEW DELHI PALAM, IN</td>\n",
       "      <td>28.567</td>\n",
       "      <td>77.117</td>\n",
       "      <td>233.0</td>\n",
       "      <td>2020-05-02</td>\n",
       "      <td>29.9</td>\n",
       "      <td>40.5</td>\n",
       "      <td>24.5</td>\n",
       "    </tr>\n",
       "    <tr>\n",
       "      <th>2</th>\n",
       "      <td>IN022023000</td>\n",
       "      <td>NEW DELHI PALAM, IN</td>\n",
       "      <td>28.567</td>\n",
       "      <td>77.117</td>\n",
       "      <td>233.0</td>\n",
       "      <td>2020-05-03</td>\n",
       "      <td>26.9</td>\n",
       "      <td>38.7</td>\n",
       "      <td>NaN</td>\n",
       "    </tr>\n",
       "    <tr>\n",
       "      <th>3</th>\n",
       "      <td>IN022023000</td>\n",
       "      <td>NEW DELHI PALAM, IN</td>\n",
       "      <td>28.567</td>\n",
       "      <td>77.117</td>\n",
       "      <td>233.0</td>\n",
       "      <td>2020-05-04</td>\n",
       "      <td>28.6</td>\n",
       "      <td>NaN</td>\n",
       "      <td>19.5</td>\n",
       "    </tr>\n",
       "    <tr>\n",
       "      <th>4</th>\n",
       "      <td>IN022023000</td>\n",
       "      <td>NEW DELHI PALAM, IN</td>\n",
       "      <td>28.567</td>\n",
       "      <td>77.117</td>\n",
       "      <td>233.0</td>\n",
       "      <td>2020-05-05</td>\n",
       "      <td>30.9</td>\n",
       "      <td>38.2</td>\n",
       "      <td>22.1</td>\n",
       "    </tr>\n",
       "  </tbody>\n",
       "</table>\n",
       "</div>"
      ],
      "text/plain": [
       "       STATION                 NAME  LATITUDE  LONGITUDE  ELEVATION  \\\n",
       "0  IN022023000  NEW DELHI PALAM, IN    28.567     77.117      233.0   \n",
       "1  IN022023000  NEW DELHI PALAM, IN    28.567     77.117      233.0   \n",
       "2  IN022023000  NEW DELHI PALAM, IN    28.567     77.117      233.0   \n",
       "3  IN022023000  NEW DELHI PALAM, IN    28.567     77.117      233.0   \n",
       "4  IN022023000  NEW DELHI PALAM, IN    28.567     77.117      233.0   \n",
       "\n",
       "         DATE  TAVG  TMAX  TMIN  \n",
       "0  2020-05-01  31.4  39.6  24.1  \n",
       "1  2020-05-02  29.9  40.5  24.5  \n",
       "2  2020-05-03  26.9  38.7   NaN  \n",
       "3  2020-05-04  28.6   NaN  19.5  \n",
       "4  2020-05-05  30.9  38.2  22.1  "
      ]
     },
     "execution_count": 14,
     "metadata": {},
     "output_type": "execute_result"
    }
   ],
   "source": [
    "weather_data.head()"
   ]
  },
  {
   "cell_type": "code",
   "execution_count": 16,
   "id": "bb9ba92e-cbb1-4bdc-88e5-4d2bebe7abdd",
   "metadata": {},
   "outputs": [],
   "source": [
    "weather_data['DATE'] = pd.to_datetime(weather_data['DATE'])"
   ]
  },
  {
   "cell_type": "code",
   "execution_count": 17,
   "id": "7c0a1271-4e36-4332-a80b-28d574220268",
   "metadata": {},
   "outputs": [],
   "source": [
    "weather_data.dropna(subset=['TAVG'], inplace=True)"
   ]
  },
  {
   "cell_type": "code",
   "execution_count": 19,
   "id": "d63eb7e5-2565-42c2-9610-3ce53ce107e9",
   "metadata": {},
   "outputs": [],
   "source": [
    "weather_data.fillna(method='backfill', inplace=True)"
   ]
  },
  {
   "cell_type": "code",
   "execution_count": 20,
   "id": "95844a0b-e709-4539-8754-152f4ab43c9c",
   "metadata": {},
   "outputs": [],
   "source": [
    "weather_data['Year'] = weather_data['DATE'].dt.year\n",
    "weather_data['Month'] = weather_data['DATE'].dt.month\n",
    "weather_data['Day'] = weather_data['DATE'].dt.day"
   ]
  },
  {
   "cell_type": "code",
   "execution_count": 21,
   "id": "12e7a644-380d-4d87-b41d-df7f78ba3f53",
   "metadata": {},
   "outputs": [],
   "source": [
    "X = weather_data[['Year', 'Month', 'Day', 'TMAX', 'TMIN']]\n",
    "y = weather_data['TAVG']\n",
    "X_train, X_test, y_train, y_test = train_test_split(X, y, test_size=0.2, random_state=42)"
   ]
  },
  {
   "cell_type": "code",
   "execution_count": 22,
   "id": "f4c944b8-2210-4c93-8295-d44493737a04",
   "metadata": {},
   "outputs": [
    {
     "data": {
      "text/html": [
       "<style>#sk-container-id-1 {color: black;background-color: white;}#sk-container-id-1 pre{padding: 0;}#sk-container-id-1 div.sk-toggleable {background-color: white;}#sk-container-id-1 label.sk-toggleable__label {cursor: pointer;display: block;width: 100%;margin-bottom: 0;padding: 0.3em;box-sizing: border-box;text-align: center;}#sk-container-id-1 label.sk-toggleable__label-arrow:before {content: \"▸\";float: left;margin-right: 0.25em;color: #696969;}#sk-container-id-1 label.sk-toggleable__label-arrow:hover:before {color: black;}#sk-container-id-1 div.sk-estimator:hover label.sk-toggleable__label-arrow:before {color: black;}#sk-container-id-1 div.sk-toggleable__content {max-height: 0;max-width: 0;overflow: hidden;text-align: left;background-color: #f0f8ff;}#sk-container-id-1 div.sk-toggleable__content pre {margin: 0.2em;color: black;border-radius: 0.25em;background-color: #f0f8ff;}#sk-container-id-1 input.sk-toggleable__control:checked~div.sk-toggleable__content {max-height: 200px;max-width: 100%;overflow: auto;}#sk-container-id-1 input.sk-toggleable__control:checked~label.sk-toggleable__label-arrow:before {content: \"▾\";}#sk-container-id-1 div.sk-estimator input.sk-toggleable__control:checked~label.sk-toggleable__label {background-color: #d4ebff;}#sk-container-id-1 div.sk-label input.sk-toggleable__control:checked~label.sk-toggleable__label {background-color: #d4ebff;}#sk-container-id-1 input.sk-hidden--visually {border: 0;clip: rect(1px 1px 1px 1px);clip: rect(1px, 1px, 1px, 1px);height: 1px;margin: -1px;overflow: hidden;padding: 0;position: absolute;width: 1px;}#sk-container-id-1 div.sk-estimator {font-family: monospace;background-color: #f0f8ff;border: 1px dotted black;border-radius: 0.25em;box-sizing: border-box;margin-bottom: 0.5em;}#sk-container-id-1 div.sk-estimator:hover {background-color: #d4ebff;}#sk-container-id-1 div.sk-parallel-item::after {content: \"\";width: 100%;border-bottom: 1px solid gray;flex-grow: 1;}#sk-container-id-1 div.sk-label:hover label.sk-toggleable__label {background-color: #d4ebff;}#sk-container-id-1 div.sk-serial::before {content: \"\";position: absolute;border-left: 1px solid gray;box-sizing: border-box;top: 0;bottom: 0;left: 50%;z-index: 0;}#sk-container-id-1 div.sk-serial {display: flex;flex-direction: column;align-items: center;background-color: white;padding-right: 0.2em;padding-left: 0.2em;position: relative;}#sk-container-id-1 div.sk-item {position: relative;z-index: 1;}#sk-container-id-1 div.sk-parallel {display: flex;align-items: stretch;justify-content: center;background-color: white;position: relative;}#sk-container-id-1 div.sk-item::before, #sk-container-id-1 div.sk-parallel-item::before {content: \"\";position: absolute;border-left: 1px solid gray;box-sizing: border-box;top: 0;bottom: 0;left: 50%;z-index: -1;}#sk-container-id-1 div.sk-parallel-item {display: flex;flex-direction: column;z-index: 1;position: relative;background-color: white;}#sk-container-id-1 div.sk-parallel-item:first-child::after {align-self: flex-end;width: 50%;}#sk-container-id-1 div.sk-parallel-item:last-child::after {align-self: flex-start;width: 50%;}#sk-container-id-1 div.sk-parallel-item:only-child::after {width: 0;}#sk-container-id-1 div.sk-dashed-wrapped {border: 1px dashed gray;margin: 0 0.4em 0.5em 0.4em;box-sizing: border-box;padding-bottom: 0.4em;background-color: white;}#sk-container-id-1 div.sk-label label {font-family: monospace;font-weight: bold;display: inline-block;line-height: 1.2em;}#sk-container-id-1 div.sk-label-container {text-align: center;}#sk-container-id-1 div.sk-container {/* jupyter's `normalize.less` sets `[hidden] { display: none; }` but bootstrap.min.css set `[hidden] { display: none !important; }` so we also need the `!important` here to be able to override the default hidden behavior on the sphinx rendered scikit-learn.org. See: https://github.com/scikit-learn/scikit-learn/issues/21755 */display: inline-block !important;position: relative;}#sk-container-id-1 div.sk-text-repr-fallback {display: none;}</style><div id=\"sk-container-id-1\" class=\"sk-top-container\"><div class=\"sk-text-repr-fallback\"><pre>RandomForestRegressor(random_state=42)</pre><b>In a Jupyter environment, please rerun this cell to show the HTML representation or trust the notebook. <br />On GitHub, the HTML representation is unable to render, please try loading this page with nbviewer.org.</b></div><div class=\"sk-container\" hidden><div class=\"sk-item\"><div class=\"sk-estimator sk-toggleable\"><input class=\"sk-toggleable__control sk-hidden--visually\" id=\"sk-estimator-id-1\" type=\"checkbox\" checked><label for=\"sk-estimator-id-1\" class=\"sk-toggleable__label sk-toggleable__label-arrow\">RandomForestRegressor</label><div class=\"sk-toggleable__content\"><pre>RandomForestRegressor(random_state=42)</pre></div></div></div></div></div>"
      ],
      "text/plain": [
       "RandomForestRegressor(random_state=42)"
      ]
     },
     "execution_count": 22,
     "metadata": {},
     "output_type": "execute_result"
    }
   ],
   "source": [
    "rf_regressor = RandomForestRegressor(n_estimators=100, random_state=42)\n",
    "rf_regressor.fit(X_train, y_train)"
   ]
  },
  {
   "cell_type": "code",
   "execution_count": 23,
   "id": "514f7635-6784-4727-b9dd-6dfe889e65ae",
   "metadata": {},
   "outputs": [],
   "source": [
    "y_pred = rf_regressor.predict(X_test)"
   ]
  },
  {
   "cell_type": "code",
   "execution_count": 24,
   "id": "488d084a-b88f-4291-85f4-e39674dc40ca",
   "metadata": {},
   "outputs": [
    {
     "name": "stdout",
     "output_type": "stream",
     "text": [
      "Mean Squared Error: 2.0807473698630226\n"
     ]
    }
   ],
   "source": [
    "mse = mean_squared_error(y_test, y_pred)\n",
    "print(\"Mean Squared Error:\", mse)"
   ]
  },
  {
   "cell_type": "code",
   "execution_count": 25,
   "id": "6a8f0829-4453-4bdb-b985-df2c0b59f0b2",
   "metadata": {},
   "outputs": [
    {
     "name": "stdout",
     "output_type": "stream",
     "text": [
      "Predicted average temperature for 2020-05-10 : 29.151999999999994\n"
     ]
    },
    {
     "name": "stderr",
     "output_type": "stream",
     "text": [
      "C:\\Users\\chiya\\AppData\\Local\\Programs\\Python\\Python311\\Lib\\site-packages\\sklearn\\base.py:439: UserWarning: X does not have valid feature names, but RandomForestRegressor was fitted with feature names\n",
      "  warnings.warn(\n"
     ]
    }
   ],
   "source": [
    "date_to_predict = datetime(2020, 5, 10)\n",
    "year = date_to_predict.year\n",
    "month = date_to_predict.month\n",
    "day = date_to_predict.day\n",
    "tmax = 35.0\n",
    "tmin = 25.0\n",
    "prediction = rf_regressor.predict([[year, month, day, tmax, tmin]])\n",
    "print(\"Predicted average temperature for\", date_to_predict.strftime('%Y-%m-%d'), \":\", prediction[0])"
   ]
  },
  {
   "cell_type": "code",
   "execution_count": null,
   "id": "7dfda023-f857-4e55-a3e8-e913eaddf3c5",
   "metadata": {},
   "outputs": [],
   "source": []
  }
 ],
 "metadata": {
  "kernelspec": {
   "display_name": "Python 3 (ipykernel)",
   "language": "python",
   "name": "python3"
  },
  "language_info": {
   "codemirror_mode": {
    "name": "ipython",
    "version": 3
   },
   "file_extension": ".py",
   "mimetype": "text/x-python",
   "name": "python",
   "nbconvert_exporter": "python",
   "pygments_lexer": "ipython3",
   "version": "3.11.2"
  }
 },
 "nbformat": 4,
 "nbformat_minor": 5
}
